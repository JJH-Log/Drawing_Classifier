{
 "cells": [
  {
   "cell_type": "code",
   "execution_count": 2,
   "metadata": {},
   "outputs": [],
   "source": [
    "#라이브러리 로드\n",
    "import numpy as np\n",
    "import pandas as pd\n",
    "import cv2\n",
    "import os\n",
    "import random\n",
    "import matplotlib.pyplot as plt\n",
    "import pickle\n",
    "from tqdm import tqdm\n",
    "\n",
    "from colorsys import rgb_to_hsv\n",
    "from keras.preprocessing.image import load_img\n",
    "\n",
    "# clustering and dimension reduction\n",
    "from sklearn.cluster import KMeans\n",
    "from sklearn.decomposition import PCA\n",
    "from sklearn.preprocessing import MinMaxScaler"
   ]
  },
  {
   "cell_type": "markdown",
   "metadata": {},
   "source": [
    "## 0. 상숫값 및 경로 설정"
   ]
  },
  {
   "cell_type": "code",
   "execution_count": 6,
   "metadata": {},
   "outputs": [],
   "source": [
    "image_dir = 'test1/' #1.이미지 불러오기 - 이미지 폴더 디렉토리\n",
    "sample_ratio = 1 #1.이미지 불러오기 - 샘플링 비율\n",
    "pca_threshold = 0.99 #3. PCA - 적합한 차원 수 찾기\n",
    "save_dir = 'saves2/' #6. 데이터 저장 - 데이터 저장 디렉토리"
   ]
  },
  {
   "cell_type": "markdown",
   "metadata": {},
   "source": [
    "## 1. 이미지 불러오기"
   ]
  },
  {
   "cell_type": "code",
   "execution_count": 7,
   "metadata": {},
   "outputs": [],
   "source": [
    "# 파일명을 담는 리스트\n",
    "file_names = []\n",
    "\n",
    "with os.scandir(image_dir) as files:\n",
    "    for file in files:\n",
    "        # .jpg .png 등 확장자명이 'g'로 끝나는 파일들 모두 읽기\n",
    "        if file.name.endswith('g'):\n",
    "            file_names.append(image_dir + file.name)\n",
    "            \n",
    "# 샘플링 수행 ()\n",
    "if sample_ratio < 1:\n",
    "    file_names = random.sample(file_names, int(len(file_names) * sample_ratio))"
   ]
  },
  {
   "cell_type": "code",
   "execution_count": 8,
   "metadata": {},
   "outputs": [
    {
     "data": {
      "image/png": "[encoded data removed]",
      "text/plain": [
       "<PIL.PngImagePlugin.PngImageFile image mode=RGB size=585x610 at 0x1D2D99F5100>"
      ]
     },
     "execution_count": 8,
     "metadata": {},
     "output_type": "execute_result"
    }
   ],
   "source": [
    "img = load_img(file_names[0])\n",
    "img"
   ]
  },
  {
   "cell_type": "markdown",
   "metadata": {},
   "source": [
    "## 2. RGB-HSV 데이터 추출"
   ]
  },
  {
   "cell_type": "code",
   "execution_count": 9,
   "metadata": {},
   "outputs": [],
   "source": [
    "def extract_data(file_name, image_size = (224, 224)):\n",
    "    #이미지 불러오기 및 np array로 변경\n",
    "    img = load_img(file_name, target_size = image_size)\n",
    "    img = np.array(img)\n",
    "    img = img.reshape(image_size[0] * image_size[1], 3)\n",
    "    \n",
    "    #hsv 데이터 추출, 병합\n",
    "    hsv_data = []\n",
    "    for pixel in img:\n",
    "        hsv_data.append(rgb_to_hsv(pixel[0] / 255, pixel[1] / 255, pixel[2] / 255))\n",
    "    return np.concatenate((img / 255, hsv_data), axis = 1)"
   ]
  },
  {
   "cell_type": "markdown",
   "metadata": {},
   "source": [
    "## 3. PCA - 적합한 차원 수 찾기"
   ]
  },
  {
   "cell_type": "code",
   "execution_count": 10,
   "metadata": {},
   "outputs": [],
   "source": [
    "# 가장 적합한 차원 수를 찾기 위한 과정, explained_variance_ratio_ > 0.99 로 잡음\n",
    "\n",
    "def pca_test(data, threshold):\n",
    "    pca = PCA(n_components = len(data[0]), random_state = 2021)\n",
    "    pca.fit_transform(data)\n",
    "    \n",
    "    ratio = np.cumsum(pca.explained_variance_ratio_)\n",
    "    d = np.argmax(ratio >= threshold) + 1    \n",
    "    return (d, ratio[d - 1])"
   ]
  },
  {
   "cell_type": "code",
   "execution_count": 11,
   "metadata": {},
   "outputs": [
    {
     "data": {
      "text/plain": [
       "(4, 1.0)"
      ]
     },
     "execution_count": 11,
     "metadata": {},
     "output_type": "execute_result"
    }
   ],
   "source": [
    "data = extract_data(file_names[0])\n",
    "pca_component = pca_test(data, pca_threshold)\n",
    "pca_component"
   ]
  },
  {
   "cell_type": "markdown",
   "metadata": {},
   "source": [
    "## 4. 클러스터링 수행"
   ]
  },
  {
   "cell_type": "code",
   "execution_count": 12,
   "metadata": {},
   "outputs": [],
   "source": [
    "def clustering_data(data, pca_components = 5, target_cluster = 20):\n",
    "    pca = PCA(n_components=pca_components, random_state=22)\n",
    "    x = pca.fit_transform(data)\n",
    "    \n",
    "    kmeans = KMeans(n_clusters=target_cluster, random_state=22)\n",
    "    kmeans.fit(x)\n",
    "    \n",
    "    return np.concatenate((data, kmeans.labels_.reshape(-1, 1)), axis = 1)"
   ]
  },
  {
   "cell_type": "code",
   "execution_count": 13,
   "metadata": {},
   "outputs": [
    {
     "name": "stderr",
     "output_type": "stream",
     "text": [
      "<ipython-input-12-653b97794f29>:6: ConvergenceWarning: Number of distinct clusters (9) found smaller than n_clusters (20). Possibly due to duplicate points in X.\n",
      "  kmeans.fit(x)\n"
     ]
    },
    {
     "data": {
      "text/plain": [
       "array([[ 0.13333333,  0.69411765,  0.29803922,  0.38228438,  0.8079096 ,\n",
       "         0.69411765,  6.        ],\n",
       "       [ 0.13333333,  0.69411765,  0.29803922,  0.38228438,  0.8079096 ,\n",
       "         0.69411765, 11.        ],\n",
       "       [ 0.13333333,  0.69411765,  0.29803922,  0.38228438,  0.8079096 ,\n",
       "         0.69411765,  7.        ],\n",
       "       [ 0.13333333,  0.69411765,  0.29803922,  0.38228438,  0.8079096 ,\n",
       "         0.69411765,  8.        ],\n",
       "       [ 0.13333333,  0.69411765,  0.29803922,  0.38228438,  0.8079096 ,\n",
       "         0.69411765,  9.        ]])"
      ]
     },
     "execution_count": 13,
     "metadata": {},
     "output_type": "execute_result"
    }
   ],
   "source": [
    "clu_data = clustering_data(data, pca_component[0])\n",
    "clu_data[0:5]"
   ]
  },
  {
   "cell_type": "markdown",
   "metadata": {},
   "source": [
    "## 5. 클러스터 그룹 별 개수 세기"
   ]
  },
  {
   "cell_type": "code",
   "execution_count": 14,
   "metadata": {},
   "outputs": [],
   "source": [
    "def grouping_clusters(data):\n",
    "    table = pd.DataFrame(data, columns = ['R','G','B','H','S','V','Cluster'])\n",
    "    gr = table.groupby('Cluster')\n",
    "    gr = pd.concat([gr.mean(), gr['R'].count().rename('Count')], axis = 1)\n",
    "    gr.sort_values(by = 'Count', ascending = False, inplace = True)\n",
    "    \n",
    "    #scaler = MinMaxScaler()\n",
    "    #gr[['Count']] = scaler.fit_transform(gr[['Count']])\n",
    "    total = gr['Count'].sum().sum()\n",
    "    gr['Count'] = gr['Count'].apply(lambda x : x / total)\n",
    "    return gr"
   ]
  },
  {
   "cell_type": "code",
   "execution_count": 15,
   "metadata": {},
   "outputs": [
    {
     "data": {
      "text/html": [
       "<div>\n",
       "<style scoped>\n",
       "    .dataframe tbody tr th:only-of-type {\n",
       "        vertical-align: middle;\n",
       "    }\n",
       "\n",
       "    .dataframe tbody tr th {\n",
       "        vertical-align: top;\n",
       "    }\n",
       "\n",
       "    .dataframe thead th {\n",
       "        text-align: right;\n",
       "    }\n",
       "</style>\n",
       "<table border=\"1\" class=\"dataframe\">\n",
       "  <thead>\n",
       "    <tr style=\"text-align: right;\">\n",
       "      <th></th>\n",
       "      <th>R</th>\n",
       "      <th>G</th>\n",
       "      <th>B</th>\n",
       "      <th>H</th>\n",
       "      <th>S</th>\n",
       "      <th>V</th>\n",
       "      <th>Count</th>\n",
       "    </tr>\n",
       "    <tr>\n",
       "      <th>Cluster</th>\n",
       "      <th></th>\n",
       "      <th></th>\n",
       "      <th></th>\n",
       "      <th></th>\n",
       "      <th></th>\n",
       "      <th></th>\n",
       "      <th></th>\n",
       "    </tr>\n",
       "  </thead>\n",
       "  <tbody>\n",
       "    <tr>\n",
       "      <th>9.0</th>\n",
       "      <td>0.133333</td>\n",
       "      <td>0.694118</td>\n",
       "      <td>0.298039</td>\n",
       "      <td>0.382284</td>\n",
       "      <td>0.807910</td>\n",
       "      <td>0.694118</td>\n",
       "      <td>0.606286</td>\n",
       "    </tr>\n",
       "    <tr>\n",
       "      <th>2.0</th>\n",
       "      <td>0.247059</td>\n",
       "      <td>0.282353</td>\n",
       "      <td>0.800000</td>\n",
       "      <td>0.656028</td>\n",
       "      <td>0.691176</td>\n",
       "      <td>0.800000</td>\n",
       "      <td>0.193599</td>\n",
       "    </tr>\n",
       "    <tr>\n",
       "      <th>1.0</th>\n",
       "      <td>0.929412</td>\n",
       "      <td>0.109804</td>\n",
       "      <td>0.141176</td>\n",
       "      <td>0.993620</td>\n",
       "      <td>0.881857</td>\n",
       "      <td>0.929412</td>\n",
       "      <td>0.132653</td>\n",
       "    </tr>\n",
       "    <tr>\n",
       "      <th>4.0</th>\n",
       "      <td>0.639216</td>\n",
       "      <td>0.286275</td>\n",
       "      <td>0.643137</td>\n",
       "      <td>0.831502</td>\n",
       "      <td>0.554878</td>\n",
       "      <td>0.643137</td>\n",
       "      <td>0.036870</td>\n",
       "    </tr>\n",
       "    <tr>\n",
       "      <th>3.0</th>\n",
       "      <td>0.000000</td>\n",
       "      <td>0.000000</td>\n",
       "      <td>0.000000</td>\n",
       "      <td>0.000000</td>\n",
       "      <td>0.000000</td>\n",
       "      <td>0.000000</td>\n",
       "      <td>0.030513</td>\n",
       "    </tr>\n",
       "  </tbody>\n",
       "</table>\n",
       "</div>"
      ],
      "text/plain": [
       "                R         G         B         H         S         V     Count\n",
       "Cluster                                                                      \n",
       "9.0      0.133333  0.694118  0.298039  0.382284  0.807910  0.694118  0.606286\n",
       "2.0      0.247059  0.282353  0.800000  0.656028  0.691176  0.800000  0.193599\n",
       "1.0      0.929412  0.109804  0.141176  0.993620  0.881857  0.929412  0.132653\n",
       "4.0      0.639216  0.286275  0.643137  0.831502  0.554878  0.643137  0.036870\n",
       "3.0      0.000000  0.000000  0.000000  0.000000  0.000000  0.000000  0.030513"
      ]
     },
     "execution_count": 15,
     "metadata": {},
     "output_type": "execute_result"
    }
   ],
   "source": [
    "gr_data = grouping_clusters(clu_data)\n",
    "gr_data.head(5)"
   ]
  },
  {
   "cell_type": "markdown",
   "metadata": {},
   "source": [
    "## 6. 데이터 시각화"
   ]
  },
  {
   "cell_type": "code",
   "execution_count": 24,
   "metadata": {},
   "outputs": [
    {
     "data": {
      "text/plain": [
       "<BarContainer object of 9 artists>"
      ]
     },
     "execution_count": 24,
     "metadata": {},
     "output_type": "execute_result"
    },
    {
     "data": {
      "image/png": "[encoded data removed]",
      "text/plain": [
       "<Figure size 432x288 with 1 Axes>"
      ]
     },
     "metadata": {
      "needs_background": "light"
     },
     "output_type": "display_data"
    }
   ],
   "source": [
    "plt.barh(range(len(gr_data)), gr_data['Count'].values, color = gr_data.iloc[:, 0:3].values)"
   ]
  },
  {
   "cell_type": "markdown",
   "metadata": {},
   "source": [
    "## 7. 데이터 저장"
   ]
  },
  {
   "cell_type": "code",
   "execution_count": 54,
   "metadata": {},
   "outputs": [],
   "source": [
    "def createFolder(directory):\n",
    "    try:\n",
    "        if not os.path.exists(directory):\n",
    "            os.makedirs(directory)\n",
    "    except OSError:\n",
    "        print ('Error: Creating directory. ' +  directory)"
   ]
  },
  {
   "cell_type": "code",
   "execution_count": 55,
   "metadata": {},
   "outputs": [],
   "source": [
    "def save_data(data, file_name, save_dir):\n",
    "    try:\n",
    "        save_name = save_dir + file_name.rsplit('.')[0].rsplit('/')[-1] + \".csv\"\n",
    "        data.to_csv(save_name)\n",
    "    except:\n",
    "        createFolder(save_dir)"
   ]
  },
  {
   "cell_type": "code",
   "execution_count": 56,
   "metadata": {},
   "outputs": [],
   "source": [
    "save_data(gr_data, file_names[0], \"saves/\")"
   ]
  },
  {
   "cell_type": "markdown",
   "metadata": {},
   "source": [
    "## 8. 전체 데이터셋 수행"
   ]
  },
  {
   "cell_type": "code",
   "execution_count": 57,
   "metadata": {
    "scrolled": true
   },
   "outputs": [
    {
     "name": "stderr",
     "output_type": "stream",
     "text": [
      "100%|████████████████████████████████████████████████████████████████████████████████| 544/544 [18:40<00:00,  2.06s/it]\n"
     ]
    }
   ],
   "source": [
    "for file_name in tqdm(file_names):\n",
    "    data = extract_data(file_name)\n",
    "    pca_component = pca_test(data, pca_threshold)\n",
    "    clu_data = clustering_data(data, pca_component[0])\n",
    "    gr_data = grouping_clusters(clu_data)\n",
    "    save_data(gr_data, file_name, save_dir)"
   ]
  }
 ],
 "metadata": {
  "kernelspec": {
   "display_name": "Python 3",
   "language": "python",
   "name": "python3"
  },
  "language_info": {
   "codemirror_mode": {
    "name": "ipython",
    "version": 3
   },
   "file_extension": ".py",
   "mimetype": "text/x-python",
   "name": "python",
   "nbconvert_exporter": "python",
   "pygments_lexer": "ipython3",
   "version": "3.8.5"
  }
 },
 "nbformat": 4,
 "nbformat_minor": 4
}
