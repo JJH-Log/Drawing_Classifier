{
 "cells": [
  {
   "cell_type": "code",
   "execution_count": 2,
   "metadata": {},
   "outputs": [],
   "source": [
    "#라이브러리 로드\n",
    "import numpy as np\n",
    "import pandas as pd\n",
    "from tqdm import tqdm\n",
    "import cv2\n",
    "import os\n",
    "import random\n",
    "import matplotlib.pyplot as plt\n",
    "import shutil\n",
    "import seaborn as sns\n",
    "\n",
    "from keras.preprocessing.image import load_img \n",
    "\n",
    "from sklearn.cluster import KMeans\n",
    "from sklearn.decomposition import PCA"
   ]
  },
  {
   "cell_type": "code",
   "execution_count": 3,
   "metadata": {},
   "outputs": [],
   "source": [
    "from numpy import dot\n",
    "from numpy.linalg import norm"
   ]
  },
  {
   "cell_type": "markdown",
   "metadata": {},
   "source": [
    "## 0. 상숫값 및 경로 설정"
   ]
  },
  {
   "cell_type": "code",
   "execution_count": 80,
   "metadata": {},
   "outputs": [],
   "source": [
    "data_20_dir = 'saves_yuv_20/' #1.데이터 불러오기 - csv 데이터 폴더 디렉토리\n",
    "data_30_dir = 'saves_yuv_30/'\n",
    "image_dir = \"images/\" #5.이미지 로드 및 그룹화 - 이미지 폴더 디렉토리\n",
    "result_20_dir = \"recommand_20/\" #7. 데이터 저장 - 데이터 저장 디렉토리\n",
    "result_30_dir = \"recommand_30/\"\n",
    "pca_threshold = 0.99 #3. PCA - 적합한 차원 수 찾기"
   ]
  },
  {
   "cell_type": "markdown",
   "metadata": {},
   "source": [
    "## 1. 데이터 불러오기¶"
   ]
  },
  {
   "cell_type": "code",
   "execution_count": null,
   "metadata": {},
   "outputs": [],
   "source": [
    "# this list holds all the image filename\n",
    "file_names = []\n",
    "data_20 = []\n",
    "\n",
    "with os.scandir(data_20_dir) as files:\n",
    "    for file in files:\n",
    "        # 모든 csv 파일 읽어오기\n",
    "        if file.name.endswith('csv'):\n",
    "            file_names.append(data_20_dir + file.name)\n",
    "            \n",
    "for file in file_names:\n",
    "    now = pd.read_csv(file, header = 0, index_col = 0).to_numpy()\n",
    "    data_20.append(now)"
   ]
  },
  {
   "cell_type": "code",
   "execution_count": 6,
   "metadata": {},
   "outputs": [],
   "source": [
    "# this list holds all the image filename\n",
    "file_names = []\n",
    "data_30 = []\n",
    "\n",
    "with os.scandir(data_30_dir) as files:\n",
    "    for file in files:\n",
    "        # 모든 csv 파일 읽어오기\n",
    "        if file.name.endswith('csv'):\n",
    "            file_names.append(data_30_dir + file.name)\n",
    "            \n",
    "for file in file_names:\n",
    "    now = pd.read_csv(file, header = 0, index_col = 0).to_numpy()\n",
    "    data_30.append(now)"
   ]
  },
  {
   "cell_type": "code",
   "execution_count": 85,
   "metadata": {},
   "outputs": [],
   "source": [
    "image_file_names = []\n",
    "\n",
    "for file in file_names:\n",
    "    image_file_names.append(image_dir + file.rsplit('.')[0].rsplit('/')[1] + '.jpg')"
   ]
  },
  {
   "cell_type": "markdown",
   "metadata": {},
   "source": [
    "## 2. RGB 스케일 평준화 작업, 유사도 비교"
   ]
  },
  {
   "cell_type": "code",
   "execution_count": 67,
   "metadata": {},
   "outputs": [],
   "source": [
    "def flatten_with_rgb(data, div, scale):\n",
    "    flt_data = []\n",
    "    for feature in data: \n",
    "        r = (feature[:,0] / div).astype(int)\n",
    "        g = (feature[:,1] / div).astype(int)\n",
    "        b = (feature[:,2] / div).astype(int)\n",
    "        tar = g * scale * scale + r * scale + b\n",
    "        \n",
    "        new_row = np.zeros(scale**3)\n",
    "        for num, val in zip(tar, data[0][:, 6]):\n",
    "            new_row[num] += val #+ (0.01 * num)\n",
    "            \n",
    "        flt_data.append(new_row)\n",
    "    return flt_data"
   ]
  },
  {
   "cell_type": "code",
   "execution_count": 68,
   "metadata": {},
   "outputs": [],
   "source": [
    "# 코사인 유사도 함수 \n",
    "def cos_sim(A, B):\n",
    "       return dot(A, B)/(norm(A)*norm(B))"
   ]
  },
  {
   "cell_type": "markdown",
   "metadata": {},
   "source": [
    "### 2-1. 8x8x8 Scale"
   ]
  },
  {
   "cell_type": "code",
   "execution_count": 69,
   "metadata": {},
   "outputs": [
    {
     "data": {
      "text/plain": [
       "<AxesSubplot:ylabel='Count'>"
      ]
     },
     "execution_count": 69,
     "metadata": {},
     "output_type": "execute_result"
    },
    {
     "data": {
      "image/png": "[encoded data removed]",
      "text/plain": [
       "<Figure size 432x288 with 1 Axes>"
      ]
     },
     "metadata": {
      "needs_background": "light"
     },
     "output_type": "display_data"
    }
   ],
   "source": [
    "flt_data_20 = flatten_with_rgb(data_20, 0.125001, 8)\n",
    "flt_data_30 = flatten_with_rgb(data_30, 0.125001, 8)\n",
    "\n",
    "sim_8 = []\n",
    "for d20, d30, file in zip(flt_data_20, flt_data_30, file_names):\n",
    "    sim_8.append(cos_sim(d20, d30))\n",
    "sns.histplot(sim_8)"
   ]
  },
  {
   "cell_type": "markdown",
   "metadata": {},
   "source": [
    "### 2-2. 10x10x10 Scale"
   ]
  },
  {
   "cell_type": "code",
   "execution_count": 70,
   "metadata": {},
   "outputs": [
    {
     "data": {
      "text/plain": [
       "<AxesSubplot:ylabel='Count'>"
      ]
     },
     "execution_count": 70,
     "metadata": {},
     "output_type": "execute_result"
    },
    {
     "data": {
      "image/png": "[encoded data removed]",
      "text/plain": [
       "<Figure size 432x288 with 1 Axes>"
      ]
     },
     "metadata": {
      "needs_background": "light"
     },
     "output_type": "display_data"
    }
   ],
   "source": [
    "flt_data_20 = flatten_with_rgb(data_20, 0.100001, 10)\n",
    "flt_data_30 = flatten_with_rgb(data_30, 0.100001, 10)\n",
    "\n",
    "sim_10 = []\n",
    "for d20, d30, file in zip(flt_data_20, flt_data_30, file_names):\n",
    "    sim_10.append(cos_sim(d20, d30))\n",
    "sns.histplot(sim_10)"
   ]
  },
  {
   "cell_type": "markdown",
   "metadata": {},
   "source": [
    "### 2-3. 5x5x5 Scale"
   ]
  },
  {
   "cell_type": "code",
   "execution_count": 73,
   "metadata": {},
   "outputs": [
    {
     "data": {
      "text/plain": [
       "<AxesSubplot:ylabel='Count'>"
      ]
     },
     "execution_count": 73,
     "metadata": {},
     "output_type": "execute_result"
    },
    {
     "data": {
      "image/png": "[encoded data removed]",
      "text/plain": [
       "<Figure size 432x288 with 1 Axes>"
      ]
     },
     "metadata": {
      "needs_background": "light"
     },
     "output_type": "display_data"
    }
   ],
   "source": [
    "flt_data_20 = flatten_with_rgb(data_20, 0.200001, 5)\n",
    "flt_data_30 = flatten_with_rgb(data_30, 0.200001, 5)\n",
    "\n",
    "sim_5 = []\n",
    "for d20, d30, file in zip(flt_data_20, flt_data_30, file_names):\n",
    "    sim_5.append(cos_sim(d20, d30))\n",
    "sns.histplot(sim_5)"
   ]
  },
  {
   "cell_type": "markdown",
   "metadata": {},
   "source": [
    "### 2-4. 4x4x4 Scale"
   ]
  },
  {
   "cell_type": "code",
   "execution_count": 76,
   "metadata": {},
   "outputs": [
    {
     "data": {
      "text/plain": [
       "<AxesSubplot:ylabel='Count'>"
      ]
     },
     "execution_count": 76,
     "metadata": {},
     "output_type": "execute_result"
    },
    {
     "data": {
      "image/png": "[encoded data removed]",
      "text/plain": [
       "<Figure size 432x288 with 1 Axes>"
      ]
     },
     "metadata": {
      "needs_background": "light"
     },
     "output_type": "display_data"
    }
   ],
   "source": [
    "flt_data_20 = flatten_with_rgb(data_20, 0.250001, 4)\n",
    "flt_data_30 = flatten_with_rgb(data_30, 0.250001, 4)\n",
    "\n",
    "sim_4 = []\n",
    "for d20, d30, file in zip(flt_data_20, flt_data_30, file_names):\n",
    "    sim_4.append(cos_sim(d20, d30))\n",
    "sns.histplot(sim_4)"
   ]
  },
  {
   "cell_type": "code",
   "execution_count": 79,
   "metadata": {},
   "outputs": [
    {
     "data": {
      "text/plain": [
       "<AxesSubplot:ylabel='Count'>"
      ]
     },
     "execution_count": 79,
     "metadata": {},
     "output_type": "execute_result"
    },
    {
     "data": {
      "image/png": "[encoded data removed]",
      "text/plain": [
       "<Figure size 432x288 with 1 Axes>"
      ]
     },
     "metadata": {
      "needs_background": "light"
     },
     "output_type": "display_data"
    }
   ],
   "source": [
    "sns.histplot([sim_10, sim_8, sim_5, sim_4])"
   ]
  },
  {
   "cell_type": "code",
   "execution_count": 81,
   "metadata": {},
   "outputs": [],
   "source": [
    "flt_data_20 = flatten_with_rgb(data_20, 0.250001, 4)\n",
    "flt_data_30 = flatten_with_rgb(data_30, 0.250001, 4)"
   ]
  },
  {
   "cell_type": "code",
   "execution_count": 82,
   "metadata": {},
   "outputs": [],
   "source": [
    "def pca_test(data, threshold):\n",
    "    pca = PCA(n_components = len(data[0]), random_state = 2021)\n",
    "    pca.fit_transform(data)\n",
    "    \n",
    "    ratio = np.cumsum(pca.explained_variance_ratio_)\n",
    "    d = np.argmax(ratio >= threshold) + 1    \n",
    "    return (d, ratio[d - 1])"
   ]
  },
  {
   "cell_type": "code",
   "execution_count": 84,
   "metadata": {},
   "outputs": [],
   "source": [
    "def clustering_data(data, target_cluster = 50):\n",
    "    kmeans = KMeans(n_clusters=target_cluster, random_state=22)\n",
    "    return kmeans.fit(data)"
   ]
  },
  {
   "cell_type": "code",
   "execution_count": 86,
   "metadata": {},
   "outputs": [],
   "source": [
    "def grouping_by_clusters(image_file_names, labels):\n",
    "    groups = {}\n",
    "    for file, cluster in zip(image_file_names, labels):\n",
    "        if cluster not in groups.keys():\n",
    "            groups[cluster] = []\n",
    "            groups[cluster].append(file)\n",
    "        else:\n",
    "            groups[cluster].append(file)\n",
    "    return groups"
   ]
  },
  {
   "cell_type": "code",
   "execution_count": 87,
   "metadata": {},
   "outputs": [],
   "source": [
    "pca_component_20 = pca_test(flt_data_20, pca_threshold)\n",
    "pca = PCA(n_components = pca_component_20[0], random_state = 2021)\n",
    "pca_data_20 = pca.fit_transform(flt_data_20)\n",
    "clu_data_20 = clustering_data(pca_data_20)\n",
    "groups_20 = grouping_by_clusters(image_file_names, clu_data_20.labels_)"
   ]
  },
  {
   "cell_type": "code",
   "execution_count": 88,
   "metadata": {},
   "outputs": [],
   "source": [
    "def createFolder(directory):\n",
    "    try:\n",
    "        if not os.path.exists(directory):\n",
    "            os.makedirs(directory)\n",
    "    except OSError:\n",
    "        print ('Error: Creating directory. ' +  directory)\n",
    "        \n",
    "def save_data(groups, result_dir):\n",
    "    for clusters, files in groups.items():\n",
    "        createFolder(result_dir + str(clusters))\n",
    "        for file in files:\n",
    "            shutil.copyfile(file, result_dir + str(clusters) + '/' + file.rsplit('/')[1])"
   ]
  },
  {
   "cell_type": "code",
   "execution_count": 89,
   "metadata": {},
   "outputs": [],
   "source": [
    "save_data(groups_20, result_20_dir)"
   ]
  },
  {
   "cell_type": "code",
   "execution_count": 90,
   "metadata": {},
   "outputs": [],
   "source": [
    "pca_component_30 = pca_test(flt_data_30, pca_threshold)\n",
    "pca = PCA(n_components = pca_component_30[0], random_state = 2021)\n",
    "pca_data_30 = pca.fit_transform(flt_data_30)\n",
    "clu_data_30 = clustering_data(pca_data_30)\n",
    "groups_30 = grouping_by_clusters(image_file_names, clu_data_30.labels_)\n",
    "save_data(groups_30, result_30_dir)"
   ]
  },
  {
   "cell_type": "code",
   "execution_count": null,
   "metadata": {},
   "outputs": [],
   "source": []
  }
 ],
 "metadata": {
  "kernelspec": {
   "display_name": "Python 3",
   "language": "python",
   "name": "python3"
  },
  "language_info": {
   "codemirror_mode": {
    "name": "ipython",
    "version": 3
   },
   "file_extension": ".py",
   "mimetype": "text/x-python",
   "name": "python",
   "nbconvert_exporter": "python",
   "pygments_lexer": "ipython3",
   "version": "3.8.5"
  }
 },
 "nbformat": 4,
 "nbformat_minor": 4
}
